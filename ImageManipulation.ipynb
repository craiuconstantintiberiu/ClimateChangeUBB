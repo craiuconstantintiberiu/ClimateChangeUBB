{
 "cells": [
  {
   "cell_type": "code",
   "execution_count": 2,
   "metadata": {
    "collapsed": true,
    "pycharm": {
     "name": "#%%\n"
    }
   },
   "outputs": [],
   "source": [
    "import cv2\n",
    "import os\n",
    "import numpy as np\n",
    "folder_name = \"SIDD_Medium_Srgb_Parts/SIDD_Medium_Srgb/Data/\"\n",
    "preprocessing_folder=\"imagesMediumDatasetCompressed/\"\n",
    "number_ground_truth_images=2"
   ]
  },
  {
   "cell_type": "markdown",
   "source": [
    "Contains the code used for relabeling the images and storing them in a different folder"
   ],
   "metadata": {
    "collapsed": false
   }
  },
  {
   "cell_type": "code",
   "execution_count": 3,
   "outputs": [],
   "source": [
    "def get_new_label(label):\n",
    "    image_variables = label.split(\"_\")\n",
    "    temperature = image_variables[-2]\n",
    "    exposure = image_variables[-1]\n",
    "    return temperature + \"_\" + exposure\n",
    "\n",
    "number_images = 1\n",
    "\n",
    "for scene_instance in os.listdir(\"%s\" % folder_name):\n",
    "    images = os.listdir(folder_name + \"/\" + scene_instance)\n",
    "    ground_truth_images = images[:number_ground_truth_images]\n",
    "    for ground_truth_image in ground_truth_images:\n",
    "        new_label = get_new_label(scene_instance)\n",
    "        image_as_array = cv2.imread(folder_name + \"/\" + scene_instance + \"/\" + ground_truth_image)\n",
    "        new_file_path=\"%s/IMG_%s\" % (preprocessing_folder,number_images)\n",
    "        np.savez_compressed(new_file_path, buffer=image_as_array, label=new_label)\n",
    "        number_images+=1\n"
   ],
   "metadata": {
    "collapsed": false,
    "pycharm": {
     "name": "#%%\n"
    }
   }
  },
  {
   "cell_type": "markdown",
   "source": [
    "Contains the code used for iterating through the images, obtaining the label and resizing the image"
   ],
   "metadata": {
    "collapsed": false
   }
  },
  {
   "cell_type": "code",
   "execution_count": 14,
   "outputs": [
    {
     "name": "stdout",
     "output_type": "stream",
     "text": [
      "['IMG_1.npz', 'IMG_10.npz', 'IMG_100.npz', 'IMG_101.npz', 'IMG_102.npz', 'IMG_103.npz', 'IMG_104.npz', 'IMG_105.npz', 'IMG_106.npz', 'IMG_107.npz', 'IMG_108.npz', 'IMG_109.npz', 'IMG_11.npz', 'IMG_110.npz', 'IMG_111.npz', 'IMG_112.npz', 'IMG_113.npz', 'IMG_114.npz', 'IMG_115.npz', 'IMG_116.npz', 'IMG_117.npz', 'IMG_118.npz', 'IMG_119.npz', 'IMG_12.npz', 'IMG_120.npz', 'IMG_121.npz', 'IMG_122.npz', 'IMG_123.npz', 'IMG_124.npz', 'IMG_125.npz', 'IMG_126.npz', 'IMG_127.npz', 'IMG_128.npz', 'IMG_129.npz', 'IMG_13.npz', 'IMG_130.npz', 'IMG_131.npz', 'IMG_132.npz', 'IMG_133.npz', 'IMG_134.npz', 'IMG_135.npz', 'IMG_136.npz', 'IMG_137.npz', 'IMG_138.npz', 'IMG_139.npz', 'IMG_14.npz', 'IMG_140.npz', 'IMG_141.npz', 'IMG_142.npz', 'IMG_143.npz', 'IMG_144.npz', 'IMG_145.npz', 'IMG_146.npz', 'IMG_147.npz', 'IMG_148.npz', 'IMG_149.npz', 'IMG_15.npz', 'IMG_150.npz', 'IMG_151.npz', 'IMG_152.npz', 'IMG_153.npz', 'IMG_154.npz', 'IMG_155.npz', 'IMG_156.npz', 'IMG_157.npz', 'IMG_158.npz', 'IMG_159.npz', 'IMG_16.npz', 'IMG_160.npz', 'IMG_161.npz', 'IMG_162.npz', 'IMG_163.npz', 'IMG_164.npz', 'IMG_165.npz', 'IMG_166.npz', 'IMG_167.npz', 'IMG_168.npz', 'IMG_169.npz', 'IMG_17.npz', 'IMG_170.npz', 'IMG_171.npz', 'IMG_172.npz', 'IMG_173.npz', 'IMG_174.npz', 'IMG_175.npz', 'IMG_176.npz', 'IMG_177.npz', 'IMG_178.npz', 'IMG_179.npz', 'IMG_18.npz', 'IMG_180.npz', 'IMG_181.npz', 'IMG_182.npz', 'IMG_183.npz', 'IMG_184.npz', 'IMG_185.npz', 'IMG_186.npz', 'IMG_187.npz', 'IMG_188.npz', 'IMG_189.npz', 'IMG_19.npz', 'IMG_190.npz', 'IMG_191.npz', 'IMG_2.npz', 'IMG_20.npz', 'IMG_21.npz', 'IMG_22.npz', 'IMG_23.npz', 'IMG_24.npz', 'IMG_25.npz', 'IMG_26.npz', 'IMG_27.npz', 'IMG_28.npz', 'IMG_29.npz', 'IMG_3.npz', 'IMG_30.npz', 'IMG_31.npz', 'IMG_32.npz', 'IMG_33.npz', 'IMG_34.npz', 'IMG_35.npz', 'IMG_36.npz', 'IMG_37.npz', 'IMG_38.npz', 'IMG_39.npz', 'IMG_4.npz', 'IMG_40.npz', 'IMG_41.npz', 'IMG_42.npz', 'IMG_43.npz', 'IMG_44.npz', 'IMG_45.npz', 'IMG_46.npz', 'IMG_47.npz', 'IMG_48.npz', 'IMG_49.npz', 'IMG_5.npz', 'IMG_50.npz', 'IMG_51.npz', 'IMG_52.npz', 'IMG_53.npz', 'IMG_54.npz', 'IMG_55.npz', 'IMG_56.npz', 'IMG_57.npz', 'IMG_58.npz', 'IMG_59.npz', 'IMG_6.npz', 'IMG_60.npz', 'IMG_61.npz', 'IMG_62.npz', 'IMG_63.npz', 'IMG_64.npz', 'IMG_65.npz', 'IMG_66.npz', 'IMG_67.npz', 'IMG_68.npz', 'IMG_69.npz', 'IMG_7.npz', 'IMG_70.npz', 'IMG_71.npz', 'IMG_72.npz', 'IMG_73.npz', 'IMG_74.npz', 'IMG_75.npz', 'IMG_76.npz', 'IMG_77.npz', 'IMG_78.npz', 'IMG_79.npz', 'IMG_8.npz', 'IMG_80.npz', 'IMG_81.npz', 'IMG_82.npz', 'IMG_83.npz', 'IMG_84.npz', 'IMG_85.npz', 'IMG_86.npz', 'IMG_87.npz', 'IMG_88.npz', 'IMG_89.npz', 'IMG_9.npz', 'IMG_90.npz', 'IMG_91.npz', 'IMG_92.npz', 'IMG_93.npz', 'IMG_94.npz', 'IMG_95.npz', 'IMG_96.npz', 'IMG_97.npz', 'IMG_98.npz', 'IMG_99.npz']\n",
      "3200_N\n",
      "3200_L\n",
      "4400_N\n",
      "4400_N\n",
      "4400_N\n",
      "4400_N\n",
      "4400_N\n",
      "4400_N\n",
      "3200_L\n",
      "3200_L\n",
      "3200_N\n",
      "3200_N\n",
      "3200_N\n",
      "4400_H\n",
      "3200_N\n",
      "3200_N\n",
      "3200_N\n",
      "5500_L\n",
      "5500_L\n",
      "5500_L\n",
      "5500_L\n",
      "3200_L\n",
      "3200_L\n",
      "3200_L\n",
      "4400_H\n",
      "3200_L\n",
      "3200_N\n",
      "3200_N\n",
      "3200_N\n",
      "3200_N\n",
      "3200_N\n",
      "3200_N\n",
      "4400_L\n",
      "4400_L\n",
      "4400_N\n",
      "5500_L\n",
      "4400_N\n",
      "4400_N\n",
      "4400_N\n",
      "5500_L\n",
      "5500_L\n",
      "5500_L\n",
      "5500_L\n",
      "5500_N\n",
      "5500_N\n",
      "5500_N\n",
      "5500_L\n",
      "5500_N\n",
      "5500_N\n",
      "5500_N\n",
      "3200_L\n",
      "3200_L\n",
      "3200_L\n",
      "3200_L\n",
      "3200_L\n",
      "3200_L\n",
      "3200_L\n",
      "5500_N\n",
      "3200_L\n",
      "3200_L\n",
      "3200_L\n",
      "3200_N\n",
      "3200_N\n",
      "3200_N\n",
      "3200_N\n",
      "4400_L\n",
      "4400_L\n",
      "4400_L\n",
      "5500_N\n",
      "4400_L\n",
      "4400_L\n",
      "4400_L\n",
      "4400_N\n",
      "4400_N\n",
      "4400_N\n",
      "4400_N\n",
      "4400_N\n",
      "4400_N\n",
      "4400_N\n",
      "3200_N\n",
      "4400_N\n",
      "5500_L\n",
      "5500_L\n",
      "5500_L\n",
      "5500_L\n",
      "5500_L\n",
      "5500_L\n",
      "5500_N\n",
      "5500_N\n",
      "5500_N\n",
      "3200_N\n",
      "5500_N\n",
      "5500_N\n",
      "5500_N\n",
      "5500_N\n",
      "5500_N\n",
      "3200_L\n",
      "3200_L\n",
      "3200_L\n",
      "3200_L\n",
      "3200_L\n",
      "5500_L\n",
      "3200_L\n"
     ]
    },
    {
     "ename": "BadZipFile",
     "evalue": "File is not a zip file",
     "output_type": "error",
     "traceback": [
      "\u001B[1;31m---------------------------------------------------------------------------\u001B[0m",
      "\u001B[1;31mBadZipFile\u001B[0m                                Traceback (most recent call last)",
      "Input \u001B[1;32mIn [14]\u001B[0m, in \u001B[0;36m<cell line: 8>\u001B[1;34m()\u001B[0m\n\u001B[0;32m      5\u001B[0m \u001B[38;5;28mprint\u001B[39m(x[\u001B[38;5;124m\"\u001B[39m\u001B[38;5;124mlabel\u001B[39m\u001B[38;5;124m\"\u001B[39m])\n\u001B[0;32m      8\u001B[0m \u001B[38;5;28;01mfor\u001B[39;00m image \u001B[38;5;129;01min\u001B[39;00m os\u001B[38;5;241m.\u001B[39mlistdir(image_folder):\n\u001B[1;32m----> 9\u001B[0m     image \u001B[38;5;241m=\u001B[39m \u001B[43mnp\u001B[49m\u001B[38;5;241;43m.\u001B[39;49m\u001B[43mload\u001B[49m\u001B[43m(\u001B[49m\u001B[43mimage_folder\u001B[49m\u001B[38;5;241;43m+\u001B[39;49m\u001B[43mimage\u001B[49m\u001B[43m)\u001B[49m\n\u001B[0;32m     10\u001B[0m     \u001B[38;5;66;03m#image_as_array = image[\"buffer\"]\u001B[39;00m\n\u001B[0;32m     11\u001B[0m     \u001B[38;5;66;03m#resized_image = cv2.resize(image_as_array, dsize=(1024,1024))\u001B[39;00m\n\u001B[0;32m     12\u001B[0m     label \u001B[38;5;241m=\u001B[39m image[\u001B[38;5;124m\"\u001B[39m\u001B[38;5;124mlabel\u001B[39m\u001B[38;5;124m\"\u001B[39m]\n",
      "File \u001B[1;32mc:\\users\\ttibi\\pycharmprojects\\convertastro\\venv\\lib\\site-packages\\numpy\\lib\\npyio.py:422\u001B[0m, in \u001B[0;36mload\u001B[1;34m(file, mmap_mode, allow_pickle, fix_imports, encoding)\u001B[0m\n\u001B[0;32m    418\u001B[0m \u001B[38;5;28;01mif\u001B[39;00m magic\u001B[38;5;241m.\u001B[39mstartswith(_ZIP_PREFIX) \u001B[38;5;129;01mor\u001B[39;00m magic\u001B[38;5;241m.\u001B[39mstartswith(_ZIP_SUFFIX):\n\u001B[0;32m    419\u001B[0m     \u001B[38;5;66;03m# zip-file (assume .npz)\u001B[39;00m\n\u001B[0;32m    420\u001B[0m     \u001B[38;5;66;03m# Potentially transfer file ownership to NpzFile\u001B[39;00m\n\u001B[0;32m    421\u001B[0m     stack\u001B[38;5;241m.\u001B[39mpop_all()\n\u001B[1;32m--> 422\u001B[0m     ret \u001B[38;5;241m=\u001B[39m \u001B[43mNpzFile\u001B[49m\u001B[43m(\u001B[49m\u001B[43mfid\u001B[49m\u001B[43m,\u001B[49m\u001B[43m \u001B[49m\u001B[43mown_fid\u001B[49m\u001B[38;5;241;43m=\u001B[39;49m\u001B[43mown_fid\u001B[49m\u001B[43m,\u001B[49m\u001B[43m \u001B[49m\u001B[43mallow_pickle\u001B[49m\u001B[38;5;241;43m=\u001B[39;49m\u001B[43mallow_pickle\u001B[49m\u001B[43m,\u001B[49m\n\u001B[0;32m    423\u001B[0m \u001B[43m                  \u001B[49m\u001B[43mpickle_kwargs\u001B[49m\u001B[38;5;241;43m=\u001B[39;49m\u001B[43mpickle_kwargs\u001B[49m\u001B[43m)\u001B[49m\n\u001B[0;32m    424\u001B[0m     \u001B[38;5;28;01mreturn\u001B[39;00m ret\n\u001B[0;32m    425\u001B[0m \u001B[38;5;28;01melif\u001B[39;00m magic \u001B[38;5;241m==\u001B[39m \u001B[38;5;28mformat\u001B[39m\u001B[38;5;241m.\u001B[39mMAGIC_PREFIX:\n\u001B[0;32m    426\u001B[0m     \u001B[38;5;66;03m# .npy file\u001B[39;00m\n",
      "File \u001B[1;32mc:\\users\\ttibi\\pycharmprojects\\convertastro\\venv\\lib\\site-packages\\numpy\\lib\\npyio.py:178\u001B[0m, in \u001B[0;36mNpzFile.__init__\u001B[1;34m(self, fid, own_fid, allow_pickle, pickle_kwargs)\u001B[0m\n\u001B[0;32m    174\u001B[0m \u001B[38;5;28;01mdef\u001B[39;00m \u001B[38;5;21m__init__\u001B[39m(\u001B[38;5;28mself\u001B[39m, fid, own_fid\u001B[38;5;241m=\u001B[39m\u001B[38;5;28;01mFalse\u001B[39;00m, allow_pickle\u001B[38;5;241m=\u001B[39m\u001B[38;5;28;01mFalse\u001B[39;00m,\n\u001B[0;32m    175\u001B[0m              pickle_kwargs\u001B[38;5;241m=\u001B[39m\u001B[38;5;28;01mNone\u001B[39;00m):\n\u001B[0;32m    176\u001B[0m     \u001B[38;5;66;03m# Import is postponed to here since zipfile depends on gzip, an\u001B[39;00m\n\u001B[0;32m    177\u001B[0m     \u001B[38;5;66;03m# optional component of the so-called standard library.\u001B[39;00m\n\u001B[1;32m--> 178\u001B[0m     _zip \u001B[38;5;241m=\u001B[39m \u001B[43mzipfile_factory\u001B[49m\u001B[43m(\u001B[49m\u001B[43mfid\u001B[49m\u001B[43m)\u001B[49m\n\u001B[0;32m    179\u001B[0m     \u001B[38;5;28mself\u001B[39m\u001B[38;5;241m.\u001B[39m_files \u001B[38;5;241m=\u001B[39m _zip\u001B[38;5;241m.\u001B[39mnamelist()\n\u001B[0;32m    180\u001B[0m     \u001B[38;5;28mself\u001B[39m\u001B[38;5;241m.\u001B[39mfiles \u001B[38;5;241m=\u001B[39m []\n",
      "File \u001B[1;32mc:\\users\\ttibi\\pycharmprojects\\convertastro\\venv\\lib\\site-packages\\numpy\\lib\\npyio.py:101\u001B[0m, in \u001B[0;36mzipfile_factory\u001B[1;34m(file, *args, **kwargs)\u001B[0m\n\u001B[0;32m     99\u001B[0m \u001B[38;5;28;01mimport\u001B[39;00m \u001B[38;5;21;01mzipfile\u001B[39;00m\n\u001B[0;32m    100\u001B[0m kwargs[\u001B[38;5;124m'\u001B[39m\u001B[38;5;124mallowZip64\u001B[39m\u001B[38;5;124m'\u001B[39m] \u001B[38;5;241m=\u001B[39m \u001B[38;5;28;01mTrue\u001B[39;00m\n\u001B[1;32m--> 101\u001B[0m \u001B[38;5;28;01mreturn\u001B[39;00m zipfile\u001B[38;5;241m.\u001B[39mZipFile(file, \u001B[38;5;241m*\u001B[39margs, \u001B[38;5;241m*\u001B[39m\u001B[38;5;241m*\u001B[39mkwargs)\n",
      "File \u001B[1;32m~\\AppData\\Local\\Programs\\Python\\Python39\\lib\\zipfile.py:1257\u001B[0m, in \u001B[0;36mZipFile.__init__\u001B[1;34m(self, file, mode, compression, allowZip64, compresslevel, strict_timestamps)\u001B[0m\n\u001B[0;32m   1255\u001B[0m \u001B[38;5;28;01mtry\u001B[39;00m:\n\u001B[0;32m   1256\u001B[0m     \u001B[38;5;28;01mif\u001B[39;00m mode \u001B[38;5;241m==\u001B[39m \u001B[38;5;124m'\u001B[39m\u001B[38;5;124mr\u001B[39m\u001B[38;5;124m'\u001B[39m:\n\u001B[1;32m-> 1257\u001B[0m         \u001B[38;5;28;43mself\u001B[39;49m\u001B[38;5;241;43m.\u001B[39;49m\u001B[43m_RealGetContents\u001B[49m\u001B[43m(\u001B[49m\u001B[43m)\u001B[49m\n\u001B[0;32m   1258\u001B[0m     \u001B[38;5;28;01melif\u001B[39;00m mode \u001B[38;5;129;01min\u001B[39;00m (\u001B[38;5;124m'\u001B[39m\u001B[38;5;124mw\u001B[39m\u001B[38;5;124m'\u001B[39m, \u001B[38;5;124m'\u001B[39m\u001B[38;5;124mx\u001B[39m\u001B[38;5;124m'\u001B[39m):\n\u001B[0;32m   1259\u001B[0m         \u001B[38;5;66;03m# set the modified flag so central directory gets written\u001B[39;00m\n\u001B[0;32m   1260\u001B[0m         \u001B[38;5;66;03m# even if no files are added to the archive\u001B[39;00m\n\u001B[0;32m   1261\u001B[0m         \u001B[38;5;28mself\u001B[39m\u001B[38;5;241m.\u001B[39m_didModify \u001B[38;5;241m=\u001B[39m \u001B[38;5;28;01mTrue\u001B[39;00m\n",
      "File \u001B[1;32m~\\AppData\\Local\\Programs\\Python\\Python39\\lib\\zipfile.py:1324\u001B[0m, in \u001B[0;36mZipFile._RealGetContents\u001B[1;34m(self)\u001B[0m\n\u001B[0;32m   1322\u001B[0m     \u001B[38;5;28;01mraise\u001B[39;00m BadZipFile(\u001B[38;5;124m\"\u001B[39m\u001B[38;5;124mFile is not a zip file\u001B[39m\u001B[38;5;124m\"\u001B[39m)\n\u001B[0;32m   1323\u001B[0m \u001B[38;5;28;01mif\u001B[39;00m \u001B[38;5;129;01mnot\u001B[39;00m endrec:\n\u001B[1;32m-> 1324\u001B[0m     \u001B[38;5;28;01mraise\u001B[39;00m BadZipFile(\u001B[38;5;124m\"\u001B[39m\u001B[38;5;124mFile is not a zip file\u001B[39m\u001B[38;5;124m\"\u001B[39m)\n\u001B[0;32m   1325\u001B[0m \u001B[38;5;28;01mif\u001B[39;00m \u001B[38;5;28mself\u001B[39m\u001B[38;5;241m.\u001B[39mdebug \u001B[38;5;241m>\u001B[39m \u001B[38;5;241m1\u001B[39m:\n\u001B[0;32m   1326\u001B[0m     \u001B[38;5;28mprint\u001B[39m(endrec)\n",
      "\u001B[1;31mBadZipFile\u001B[0m: File is not a zip file"
     ]
    }
   ],
   "source": [
    "\n",
    "image_folder = preprocessing_folder\n",
    "print(os.listdir(image_folder))\n",
    "\n",
    "x=np.load(image_folder+'IMG_18.npz')\n",
    "print(x[\"label\"])\n",
    "\n",
    "\n",
    "for image in os.listdir(image_folder):\n",
    "    image = np.load(image_folder+image)\n",
    "    #image_as_array = image[\"buffer\"]\n",
    "    #resized_image = cv2.resize(image_as_array, dsize=(1024,1024))\n",
    "    label = image[\"label\"]\n",
    "    print(label)\n",
    "\n"
   ],
   "metadata": {
    "collapsed": false,
    "pycharm": {
     "name": "#%%\n"
    }
   }
  }
 ],
 "metadata": {
  "kernelspec": {
   "display_name": "Python 3",
   "language": "python",
   "name": "python3"
  },
  "language_info": {
   "codemirror_mode": {
    "name": "ipython",
    "version": 2
   },
   "file_extension": ".py",
   "mimetype": "text/x-python",
   "name": "python",
   "nbconvert_exporter": "python",
   "pygments_lexer": "ipython2",
   "version": "2.7.6"
  }
 },
 "nbformat": 4,
 "nbformat_minor": 0
}