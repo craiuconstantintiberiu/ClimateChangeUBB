{
 "cells": [
  {
   "cell_type": "code",
   "execution_count": 6,
   "metadata": {
    "collapsed": true,
    "pycharm": {
     "name": "#%%\n"
    }
   },
   "outputs": [],
   "source": [
    "import cv2\n",
    "import os\n",
    "import numpy as np\n",
    "folder_name = \"SIDD_Small_sRGB_Only/Data\""
   ]
  },
  {
   "cell_type": "markdown",
   "source": [
    "Contains the code used for relabeling the images and storing them in a different folder"
   ],
   "metadata": {
    "collapsed": false
   }
  },
  {
   "cell_type": "code",
   "execution_count": 9,
   "outputs": [],
   "source": [
    "def get_new_label(label):\n",
    "    image_variables = label.split(\"_\")\n",
    "    temperature = image_variables[-2]\n",
    "    exposure = image_variables[-1]\n",
    "    return temperature + \"_\" + exposure\n",
    "\n",
    "number_images = 1\n",
    "\n",
    "for scene_instance in os.listdir(\"%s\" % folder_name):\n",
    "    ground_truth_image = os.listdir(folder_name + \"/\" + scene_instance)[0]\n",
    "    new_label = get_new_label(scene_instance)\n",
    "    image_as_array = cv2.imread(folder_name + \"/\" + scene_instance + \"/\" + ground_truth_image)\n",
    "    new_file_path=\"images/IMG_%s\" % number_images\n",
    "    np.savez(new_file_path, buffer=image_as_array, label=new_label)\n",
    "    number_images+=1\n"
   ],
   "metadata": {
    "collapsed": false,
    "pycharm": {
     "name": "#%%\n"
    }
   }
  },
  {
   "cell_type": "markdown",
   "source": [
    "Contains the code used for iterating through the images, obtaining the label and resizing the image"
   ],
   "metadata": {
    "collapsed": false
   }
  },
  {
   "cell_type": "code",
   "execution_count": 11,
   "outputs": [
    {
     "name": "stdout",
     "output_type": "stream",
     "text": [
      "3200_L\n",
      "5500_L\n",
      "4400_L\n",
      "4400_N\n",
      "4400_N\n",
      "5500_L\n",
      "5500_L\n",
      "5500_N\n",
      "5500_N\n",
      "5500_N\n",
      "5500_N\n",
      "3200_L\n",
      "5500_N\n",
      "3200_L\n",
      "3200_L\n",
      "4400_N\n",
      "4400_N\n",
      "4400_N\n",
      "4400_N\n",
      "4400_L\n",
      "4400_L\n",
      "5500_L\n",
      "5500_L\n",
      "3200_L\n",
      "5500_L\n",
      "5500_L\n",
      "5500_N\n",
      "5500_N\n",
      "5500_N\n",
      "3200_L\n",
      "3200_L\n",
      "3200_L\n",
      "3200_N\n",
      "3200_N\n",
      "3200_N\n",
      "3200_N\n",
      "3200_N\n",
      "4400_L\n",
      "4400_L\n",
      "4400_L\n",
      "4400_L\n",
      "4400_N\n",
      "4400_N\n",
      "5500_L\n",
      "5500_L\n",
      "5500_L\n",
      "5500_L\n",
      "5500_L\n",
      "5500_N\n",
      "5500_N\n",
      "5500_N\n",
      "3200_L\n",
      "3200_L\n",
      "3200_L\n",
      "3200_N\n",
      "3200_N\n",
      "5500_N\n",
      "3200_N\n",
      "3200_N\n",
      "3200_N\n",
      "3200_N\n",
      "3200_N\n",
      "5500_L\n",
      "5500_L\n",
      "5500_L\n",
      "5500_N\n",
      "5500_N\n",
      "5500_N\n",
      "5500_N\n",
      "5500_L\n",
      "5500_L\n",
      "5500_N\n",
      "3200_N\n",
      "5500_N\n",
      "5500_N\n",
      "5500_L\n",
      "5500_L\n",
      "5500_N\n",
      "5500_N\n",
      "5500_N\n",
      "3200_N\n",
      "3200_N\n",
      "3200_N\n",
      "3200_H\n",
      "3200_N\n",
      "3200_N\n",
      "3200_L\n",
      "5500_L\n",
      "5500_L\n",
      "5500_N\n",
      "5500_N\n",
      "5500_N\n",
      "3200_L\n",
      "3200_L\n",
      "4400_L\n",
      "5500_L\n",
      "5500_L\n",
      "5500_N\n",
      "5500_N\n",
      "5500_N\n",
      "5500_N\n",
      "5500_L\n",
      "5500_L\n",
      "4400_L\n",
      "4400_L\n",
      "4400_N\n",
      "4400_N\n",
      "4400_N\n",
      "4400_N\n",
      "3200_L\n",
      "3200_N\n",
      "3200_N\n",
      "3200_N\n",
      "5500_L\n",
      "5500_L\n",
      "3200_L\n",
      "4400_H\n",
      "3200_L\n",
      "3200_N\n",
      "3200_N\n",
      "3200_N\n",
      "4400_L\n",
      "4400_N\n",
      "4400_N\n",
      "5500_L\n",
      "5500_L\n",
      "5500_N\n",
      "5500_L\n",
      "5500_N\n",
      "5500_N\n",
      "3200_L\n",
      "3200_L\n",
      "3200_L\n",
      "3200_L\n",
      "3200_L\n",
      "3200_N\n",
      "3200_N\n",
      "4400_L\n",
      "5500_N\n",
      "4400_L\n",
      "4400_L\n",
      "4400_N\n",
      "4400_N\n",
      "4400_N\n",
      "4400_N\n",
      "5500_L\n",
      "5500_L\n",
      "5500_L\n",
      "5500_N\n",
      "3200_N\n",
      "5500_N\n",
      "5500_N\n",
      "5500_N\n",
      "3200_L\n",
      "3200_L\n",
      "3200_L\n",
      "3200_N\n",
      "3200_N\n",
      "4400_L\n",
      "4400_L\n"
     ]
    }
   ],
   "source": [
    "image_folder = \"images\"\n",
    "for image in os.listdir():\n",
    "    image = np.load(image_folder+image)\n",
    "    image_as_array = image[\"buffer\"]\n",
    "    resized_image = cv2.resize(image_as_array, dsize=(1024,1024))\n",
    "    label = image[\"label\"]\n"
   ],
   "metadata": {
    "collapsed": false,
    "pycharm": {
     "name": "#%%\n"
    }
   }
  }
 ],
 "metadata": {
  "kernelspec": {
   "display_name": "Python 3",
   "language": "python",
   "name": "python3"
  },
  "language_info": {
   "codemirror_mode": {
    "name": "ipython",
    "version": 2
   },
   "file_extension": ".py",
   "mimetype": "text/x-python",
   "name": "python",
   "nbconvert_exporter": "python",
   "pygments_lexer": "ipython2",
   "version": "2.7.6"
  }
 },
 "nbformat": 4,
 "nbformat_minor": 0
}